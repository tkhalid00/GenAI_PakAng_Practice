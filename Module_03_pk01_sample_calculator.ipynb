{
  "nbformat": 4,
  "nbformat_minor": 0,
  "metadata": {
    "colab": {
      "provenance": [],
      "authorship_tag": "ABX9TyMohQapt3LWusueC/vXXGMB",
      "include_colab_link": true
    },
    "kernelspec": {
      "name": "python3",
      "display_name": "Python 3"
    },
    "language_info": {
      "name": "python"
    }
  },
  "cells": [
    {
      "cell_type": "markdown",
      "metadata": {
        "id": "view-in-github",
        "colab_type": "text"
      },
      "source": [
        "<a href=\"https://colab.research.google.com/github/tkhalid00/GenAI_PakAng_Practice/blob/main/Module_03_pk01_sample_calculator.ipynb\" target=\"_parent\"><img src=\"https://colab.research.google.com/assets/colab-badge.svg\" alt=\"Open In Colab\"/></a>"
      ]
    },
    {
      "cell_type": "code",
      "source": [
        "def calculator(num1, num2, operator):\n",
        "  \"\"\"\n",
        "  Performs basic arithmetic operations.\n",
        "\n",
        "  Args:\n",
        "    num1: The first operand.\n",
        "    num2: The second operand.\n",
        "    operator: The operator to perform (+, -, *, /).\n",
        "\n",
        "  Returns:\n",
        "    The result of the operation.\n",
        "  \"\"\"\n",
        "\n",
        "  if operator == '+':\n",
        "    result = num1 + num2\n",
        "  elif operator == '-':\n",
        "    result = num1 - num2\n",
        "  elif operator == '*':\n",
        "    result = num1 * num2\n",
        "  elif operator == '/':\n",
        "    if num2 == 0:\n",
        "      raise ValueError(\"Cannot divide by zero.\")\n",
        "    result = num1 / num2\n",
        "  else:\n",
        "    raise ValueError(\"Invalid operator.\")\n",
        "\n",
        "  return result\n",
        "\n",
        "# Get user input\n",
        "num1 = float(input(\"Enter the first number: \"))\n",
        "num2 = float(input(\"Enter the second number: \"))\n",
        "operator = input(\"Enter the operator (+, -, *, /): \")\n",
        "\n",
        "# Perform the calculation\n",
        "try:\n",
        "  result = calculator(num1, num2, operator)\n",
        "  print(\"Result:\", result)\n",
        "except ValueError as e:\n",
        "  print(\"Error:\", e)"
      ],
      "metadata": {
        "id": "KfW7A7aOODbL",
        "colab": {
          "base_uri": "https://localhost:8080/"
        },
        "outputId": "09dd7b8f-b081-43c6-8178-f152d0d6ff1c"
      },
      "execution_count": 2,
      "outputs": [
        {
          "output_type": "stream",
          "name": "stdout",
          "text": [
            "Enter the first number: 23\n",
            "Enter the second number: 12\n",
            "Enter the operator (+, -, *, /): /\n",
            "Result: 1.9166666666666667\n"
          ]
        }
      ]
    },
    {
      "cell_type": "code",
      "source": [
        "def calculator(num1, num2, operator):\n",
        "  \"\"\"\n",
        "  Performs basic arithmetic operations.\n",
        "\n",
        "  Args:\n",
        "    num1: The first operand.\n",
        "    num2: The second operand.\n",
        "    operator: The operator to perform (+, -, *, /, //).\n",
        "\n",
        "  Returns:\n",
        "    The result of the operation.\n",
        "  \"\"\"\n",
        "\n",
        "  if operator == '+':\n",
        "    result = num1 + num2\n",
        "  elif operator == '-':\n",
        "    result = num1 - num2\n",
        "  elif operator == '*':\n",
        "    result = num1 * num2\n",
        "  elif operator == '/':\n",
        "    if num2 == 0:\n",
        "      raise ValueError(\"Cannot divide by zero.\")\n",
        "    result = num1 / num2\n",
        "  elif operator == '//':\n",
        "    if num2 == 0:\n",
        "      raise ValueError(\"Cannot divide by zero.\")\n",
        "    result = num1 // num2\n",
        "  else:\n",
        "    raise ValueError(\"Invalid operator.\")\n",
        "\n",
        "  return result\n",
        "\n",
        "# Get user input\n",
        "num1 = float(input(\"Enter the first number: \"))\n",
        "num2 = float(input(\"Enter the second number: \"))\n",
        "operator = input(\"Enter the operator (+, -, *, /, //): \")\n",
        "\n",
        "# Perform the calculation\n",
        "try:\n",
        "  result = calculator(num1, num2, operator)\n",
        "  print(\"Result:\", result)\n",
        "except ValueError as e:\n",
        "  print(\"Error:\", e)"
      ],
      "metadata": {
        "colab": {
          "base_uri": "https://localhost:8080/"
        },
        "id": "OnIjoPVb73-y",
        "outputId": "39da743c-8c78-4a67-b1cc-6572cb32d10f"
      },
      "execution_count": 3,
      "outputs": [
        {
          "output_type": "stream",
          "name": "stdout",
          "text": [
            "Enter the first number: 23\n",
            "Enter the second number: 9\n",
            "Enter the operator (+, -, *, /, //): //\n",
            "Result: 2.0\n"
          ]
        }
      ]
    },
    {
      "cell_type": "code",
      "source": [],
      "metadata": {
        "id": "M6O7xf0B8SL-"
      },
      "execution_count": null,
      "outputs": []
    }
  ]
}